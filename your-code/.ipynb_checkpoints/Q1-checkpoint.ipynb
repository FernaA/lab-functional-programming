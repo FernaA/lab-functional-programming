{
 "cells": [
  {
   "cell_type": "markdown",
   "metadata": {},
   "source": [
    "In the cell below, create a Python function that wraps your previous solution for the Bag of Words lab.\n",
    "\n",
    "Requirements:\n",
    "\n",
    "1. Your function should accept the following parameters:\n",
    "    * `docs` [REQUIRED] - array of document paths.\n",
    "    * `stop_words` [OPTIONAL] - array of stop words. The default value is an empty array.\n",
    "\n",
    "1. Your function should return a Python object that contains the following:\n",
    "    * `bag_of_words` - array of strings of normalized unique words in the corpus.\n",
    "    * `term_freq` - array of the term-frequency vectors."
   ]
  },
  {
   "cell_type": "code",
   "execution_count": 2,
   "metadata": {},
   "outputs": [],
   "source": [
    "# Import required libraries\n",
    "\n",
    "# Define function\n",
    "def get_bow_from_docs(docs, stop_words=[]):\n",
    "    \n",
    "    # In the function, first define the variables you will use such as `corpus`, `bag_of_words`, and `term_freq`.\n",
    "    \n",
    "    \n",
    "    \n",
    "    \"\"\"\n",
    "    Loop `docs` and read the content of each doc into a string in `corpus`.\n",
    "    Remember to convert the doc content to lowercases and remove punctuation.\n",
    "    \"\"\"\n",
    "    corpus = []\n",
    "\n",
    "    for doc in docs:\n",
    "        corpus.append(open(doc,'r').read())\n",
    "    \n",
    "    \n",
    "    \n",
    "    \"\"\"\n",
    "    Loop `corpus`. Append the terms in each doc into the `bag_of_words` array. The terms in `bag_of_words` \n",
    "    should be unique which means before adding each term you need to check if it's already added to the array.\n",
    "    In addition, check if each term is in the `stop_words` array. Only append the term to `bag_of_words`\n",
    "    if it is not a stop word.\n",
    "    \"\"\"\n",
    "    for i, doc in enumerate(corpus, start =0):\n",
    "        doc = doc.lower()\n",
    "        doc = doc.replace(\".\", \"\")\n",
    "        corpus[i] = doc\n",
    "    \n",
    "    \n",
    "    \n",
    "    \"\"\"\n",
    "    Loop `corpus` again. For each doc string, count the number of occurrences of each term in `bag_of_words`. \n",
    "    Create an array for each doc's term frequency and append it to `term_freq`.\n",
    "    \"\"\"\n",
    "# Write your code here\n",
    "    bag_of_words = []\n",
    "    \n",
    "    for i in corpus:\n",
    "        terms = i.split()\n",
    "        for x in terms:\n",
    "            if x not in bag_of_words and x not in stop_words:\n",
    "                bag_of_words.append(x)\n",
    "\n",
    "    term_freq = []\n",
    "    fragments = []\n",
    "\n",
    "    bag_of_words = [word for word in bag_of_words if word not in stop_words]\n",
    "\n",
    "    for x in corpus:\n",
    "        fragments.append(x.split())\n",
    "\n",
    "    for i in range(len(fragments)):\n",
    "        freq = []\n",
    "        for x in bag_of_words:\n",
    "            count = fragments[i].count(x)\n",
    "            freq.append(count) \n",
    "\n",
    "\n",
    "        term_freq.append(freq)\n",
    "\n",
    "    \n",
    "    # Now return your output as an object\n",
    "    return {\n",
    "        \"bag_of_words\": bag_of_words,\n",
    "        \"term_freq\": term_freq\n",
    "    }\n",
    "    "
   ]
  },
  {
   "cell_type": "markdown",
   "metadata": {},
   "source": [
    "Test your function without stop words. You should see the output like below:\n",
    "\n",
    "```{'bag_of_words': ['ironhack', 'is', 'cool', 'i', 'love', 'am', 'a', 'student', 'at'], 'term_freq': [[1, 1, 1, 0, 0, 0, 0, 0, 0], [1, 0, 0, 1, 1, 0, 0, 0, 0], [1, 0, 0, 1, 0, 1, 1, 1, 1]]}```"
   ]
  },
  {
   "cell_type": "code",
   "execution_count": 4,
   "metadata": {},
   "outputs": [
    {
     "name": "stdout",
     "output_type": "stream",
     "text": [
      "{'bag_of_words': ['ironhack', 'is', 'cool', 'i', 'love', 'am', 'a', 'student', 'at'], 'term_freq': [[1, 1, 1, 0, 0, 0, 0, 0, 0], [1, 0, 0, 1, 1, 0, 0, 0, 0], [1, 0, 0, 1, 0, 1, 1, 1, 1]]}\n"
     ]
    }
   ],
   "source": [
    "# Define doc paths array\n",
    "docs = [\"../doc1.txt\", \"../doc2.txt\", \"../doc3.txt\"]\n",
    "\n",
    "# Obtain BoW from your function\n",
    "bow = get_bow_from_docs(docs)\n",
    "\n",
    "# Print BoW\n",
    "print(bow)"
   ]
  },
  {
   "cell_type": "markdown",
   "metadata": {},
   "source": [
    "If your attempt above is successful, nice work done!\n",
    "\n",
    "Now test your function again with the stop words. In the previous lab we defined the stop words in a large array. In this lab, we'll import the stop words from Scikit-Learn."
   ]
  },
  {
   "cell_type": "code",
   "execution_count": 5,
   "metadata": {},
   "outputs": [
    {
     "name": "stdout",
     "output_type": "stream",
     "text": [
      "frozenset({'up', 'afterwards', 'to', 'con', 'i', 'etc', 'would', 'everywhere', 'how', 'each', 'system', 'sincere', 'thus', 'eg', 'sometimes', 'when', 'above', 'made', 'nevertheless', 'sometime', 'can', 'without', 'hasnt', 'nine', 'now', 'themselves', 'and', 'because', 'neither', 'between', 'have', 'couldnt', 'whereafter', 'last', 'either', 'throughout', 'there', 'below', 'these', 'it', 'whenever', 'everything', 'along', 'all', 'thick', 'should', 'nowhere', 'rather', 'she', 'only', 'never', 'but', 'top', 'whereupon', 'besides', 'whither', 'myself', 'beyond', 'yet', 'also', 'thereby', 'other', 'somehow', 'mostly', 'down', 'eight', 'what', 'every', 'many', 'therefore', 'much', 'whole', 'before', 'further', 'front', 'see', 'several', 'were', 'full', 'once', 'a', 'although', 'except', 'upon', 'if', 'mill', 'almost', 'moreover', 'move', 'interest', 'became', 'are', 'so', 'another', 'until', 'of', 'already', 'may', 'too', 'with', 'back', 'forty', 'some', 'amoungst', 'find', 'perhaps', 'thereupon', 'your', 'even', 'four', 'thence', 'during', 'ie', 'our', 'whence', 'five', 'less', 'serious', 'around', 'whereby', 'call', 'nothing', 'whereas', 'side', 'always', 'be', 'someone', 'namely', 'anywhere', 'describe', 'here', 'found', 'six', 'one', 'himself', 'at', 'ours', 'within', 'becoming', 'whether', 'towards', 'out', 'been', 'please', 'toward', 'could', 'after', 'herself', 'me', 'well', 'sixty', 'indeed', 'first', 'ever', 'wherever', 'ltd', 'enough', 'in', 'get', 'least', 'must', 'alone', 'seems', 'hereafter', 'against', 'anything', 'name', 'onto', 'nor', 'that', 'for', 'whom', 'they', 'becomes', 'none', 'them', 'anyhow', 'keep', 'ourselves', 'per', 'yours', 'due', 'seemed', 'un', 'therein', 'via', 'hers', 'mine', 'ten', 'same', 'very', 'his', 'yourselves', 'seeming', 'cannot', 'part', 'put', 'my', 'somewhere', 'or', 'hundred', 'together', 'no', 'become', 'detail', 'thin', 'any', 'take', 'us', 'those', 'cry', 'though', 'bottom', 'eleven', 'however', 'such', 'de', 'where', 'others', 'two', 'everyone', 'who', 'he', 'hence', 'noone', 'we', 'thru', 'few', 'fill', 'why', 'otherwise', 'across', 'among', 'nobody', 'third', 'go', 'inc', 'still', 'whatever', 'being', 'not', 'is', 'itself', 'formerly', 'bill', 'on', 'both', 'twenty', 'their', 'which', 'off', 'through', 'latter', 'you', 'hereupon', 'often', 'behind', 'three', 'amongst', 'again', 'anyway', 'by', 'her', 'into', 'empty', 'thereafter', 'cant', 'something', 'more', 'next', 'under', 'am', 'while', 'has', 'most', 'fifty', 'do', 'beforehand', 'elsewhere', 'the', 'herein', 'hereby', 'anyone', 'this', 'whose', 'co', 'former', 'twelve', 'show', 'then', 'whoever', 'might', 'seem', 'latterly', 'own', 'beside', 'since', 'an', 'wherein', 'fifteen', 'meanwhile', 'about', 'will', 'him', 'yourself', 'its', 'else', 're', 'amount', 'done', 'as', 'had', 'give', 'fire', 'than', 'over', 'from', 'was'})\n"
     ]
    }
   ],
   "source": [
    "from sklearn.feature_extraction import stop_words\n",
    "print(stop_words.ENGLISH_STOP_WORDS)"
   ]
  },
  {
   "cell_type": "markdown",
   "metadata": {},
   "source": [
    "You should have seen a large list of words that looks like:\n",
    "\n",
    "```frozenset({'across', 'mine', 'cannot', ...})```\n",
    "\n",
    "`frozenset` is a type of Python object that is immutable. In this lab you can use it just like an array without conversion."
   ]
  },
  {
   "cell_type": "markdown",
   "metadata": {},
   "source": [
    "Next, test your function with supplying `stop_words.ENGLISH_STOP_WORDS` as the second parameter."
   ]
  },
  {
   "cell_type": "code",
   "execution_count": 7,
   "metadata": {},
   "outputs": [
    {
     "name": "stdout",
     "output_type": "stream",
     "text": [
      "{'bag_of_words': ['ironhack', 'cool', 'love', 'student'], 'term_freq': [[1, 1, 0, 0], [1, 0, 1, 0], [1, 0, 0, 1]]}\n"
     ]
    }
   ],
   "source": [
    "bow = get_bow_from_docs(docs, stop_words.ENGLISH_STOP_WORDS)\n",
    "\n",
    "print(bow)"
   ]
  },
  {
   "cell_type": "markdown",
   "metadata": {},
   "source": [
    "You should have seen:\n",
    "\n",
    "```{'bag_of_words': ['ironhack', 'cool', 'love', 'student'], 'term_freq': [[1, 1, 0, 0], [1, 0, 1, 0], [1, 0, 0, 1]]}```"
   ]
  },
  {
   "cell_type": "code",
   "execution_count": null,
   "metadata": {},
   "outputs": [],
   "source": []
  }
 ],
 "metadata": {
  "kernelspec": {
   "display_name": "Python 3",
   "language": "python",
   "name": "python3"
  },
  "language_info": {
   "codemirror_mode": {
    "name": "ipython",
    "version": 3
   },
   "file_extension": ".py",
   "mimetype": "text/x-python",
   "name": "python",
   "nbconvert_exporter": "python",
   "pygments_lexer": "ipython3",
   "version": "3.7.4"
  }
 },
 "nbformat": 4,
 "nbformat_minor": 2
}
